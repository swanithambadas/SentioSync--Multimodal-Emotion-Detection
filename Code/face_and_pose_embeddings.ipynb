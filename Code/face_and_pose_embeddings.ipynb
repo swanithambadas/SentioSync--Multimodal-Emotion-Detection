{
 "cells": [
  {
   "cell_type": "code",
   "execution_count": 3,
   "id": "cea8d409-9c3a-40d9-8a4b-b5fac2bda8e9",
   "metadata": {},
   "outputs": [
    {
     "name": "stdout",
     "output_type": "stream",
     "text": [
      "Notebook is using: C:\\Users\\swani\\AppData\\Local\\Programs\\Python\\Python312\\python.exe\n"
     ]
    }
   ],
   "source": [
    "import sys\n",
    "print(\"Notebook is using:\", sys.executable)"
   ]
  },
  {
   "cell_type": "code",
   "execution_count": 10,
   "id": "579ee69f-3a85-497f-bd47-ff7f8fe236d6",
   "metadata": {},
   "outputs": [
    {
     "name": "stdout",
     "output_type": "stream",
     "text": [
      "Collecting opencv-python\n",
      "  Using cached opencv_python-4.11.0.86-cp37-abi3-win_amd64.whl.metadata (20 kB)\n",
      "Requirement already satisfied: numpy>=1.21.2 in c:\\users\\swani\\appdata\\roaming\\python\\python312\\site-packages (from opencv-python) (1.26.4)\n",
      "Using cached opencv_python-4.11.0.86-cp37-abi3-win_amd64.whl (39.5 MB)\n",
      "Installing collected packages: opencv-python\n",
      "Successfully installed opencv-python-4.11.0.86\n"
     ]
    },
    {
     "name": "stderr",
     "output_type": "stream",
     "text": [
      "\n",
      "[notice] A new release of pip is available: 24.3.1 -> 25.0.1\n",
      "[notice] To update, run: C:\\Users\\swani\\AppData\\Local\\Programs\\Python\\Python312\\python.exe -m pip install --upgrade pip\n"
     ]
    }
   ],
   "source": [
    "!{sys.executable} -m pip install --upgrade opencv-python"
   ]
  },
  {
   "cell_type": "code",
   "execution_count": 12,
   "id": "73be704e-19e4-4ec3-bb21-9d985480d388",
   "metadata": {},
   "outputs": [
    {
     "name": "stdout",
     "output_type": "stream",
     "text": [
      "CUDA available: True   CUDA version: 11.8\n",
      "cv2: 4.11.0\n"
     ]
    }
   ],
   "source": [
    "print(\"CUDA available:\", torch.cuda.is_available(), \"  CUDA version:\", torch.version.cuda)\n",
    "print(\"cv2:\", cv2.__version__)"
   ]
  },
  {
   "cell_type": "code",
   "execution_count": 4,
   "id": "5beb890a-5a60-47b4-83e3-6c9e2f993402",
   "metadata": {},
   "outputs": [
    {
     "name": "stdout",
     "output_type": "stream",
     "text": [
      "Collecting timm\n",
      "  Using cached timm-1.0.15-py3-none-any.whl.metadata (52 kB)\n",
      "Requirement already satisfied: torch in c:\\users\\swani\\appdata\\local\\programs\\python\\python312\\lib\\site-packages (2.8.0.dev20250420+cu118)\n",
      "Requirement already satisfied: torchvision in c:\\users\\swani\\appdata\\local\\programs\\python\\python312\\lib\\site-packages (0.22.0.dev20250421+cu118)\n",
      "Requirement already satisfied: pillow in c:\\users\\swani\\appdata\\local\\programs\\python\\python312\\lib\\site-packages (10.2.0)\n",
      "Requirement already satisfied: pyyaml in c:\\users\\swani\\appdata\\roaming\\python\\python312\\site-packages (from timm) (6.0.1)\n",
      "Requirement already satisfied: huggingface_hub in c:\\users\\swani\\appdata\\local\\programs\\python\\python312\\lib\\site-packages (from timm) (0.23.4)\n",
      "Requirement already satisfied: safetensors in c:\\users\\swani\\appdata\\local\\programs\\python\\python312\\lib\\site-packages (from timm) (0.4.3)\n",
      "Requirement already satisfied: filelock in c:\\users\\swani\\appdata\\local\\programs\\python\\python312\\lib\\site-packages (from torch) (3.13.1)\n",
      "Requirement already satisfied: typing-extensions>=4.10.0 in c:\\users\\swani\\appdata\\local\\programs\\python\\python312\\lib\\site-packages (from torch) (4.12.2)\n",
      "Requirement already satisfied: sympy>=1.13.3 in c:\\users\\swani\\appdata\\local\\programs\\python\\python312\\lib\\site-packages (from torch) (1.13.3)\n",
      "Requirement already satisfied: networkx in c:\\users\\swani\\appdata\\local\\programs\\python\\python312\\lib\\site-packages (from torch) (3.2.1)\n",
      "Requirement already satisfied: jinja2 in c:\\users\\swani\\appdata\\roaming\\python\\python312\\site-packages (from torch) (3.1.3)\n",
      "Requirement already satisfied: fsspec in c:\\users\\swani\\appdata\\local\\programs\\python\\python312\\lib\\site-packages (from torch) (2024.2.0)\n",
      "Requirement already satisfied: setuptools in c:\\users\\swani\\appdata\\local\\programs\\python\\python312\\lib\\site-packages (from torch) (70.0.0)\n",
      "Requirement already satisfied: numpy in c:\\users\\swani\\appdata\\roaming\\python\\python312\\site-packages (from torchvision) (1.26.4)\n",
      "Requirement already satisfied: mpmath<1.4,>=1.1.0 in c:\\users\\swani\\appdata\\local\\programs\\python\\python312\\lib\\site-packages (from sympy>=1.13.3->torch) (1.3.0)\n",
      "Requirement already satisfied: packaging>=20.9 in c:\\users\\swani\\appdata\\roaming\\python\\python312\\site-packages (from huggingface_hub->timm) (24.0)\n",
      "Requirement already satisfied: requests in c:\\users\\swani\\appdata\\local\\programs\\python\\python312\\lib\\site-packages (from huggingface_hub->timm) (2.31.0)\n",
      "Requirement already satisfied: tqdm>=4.42.1 in c:\\users\\swani\\appdata\\local\\programs\\python\\python312\\lib\\site-packages (from huggingface_hub->timm) (4.66.4)\n",
      "Requirement already satisfied: MarkupSafe>=2.0 in c:\\users\\swani\\appdata\\roaming\\python\\python312\\site-packages (from jinja2->torch) (2.1.5)\n",
      "Requirement already satisfied: colorama in c:\\users\\swani\\appdata\\roaming\\python\\python312\\site-packages (from tqdm>=4.42.1->huggingface_hub->timm) (0.4.6)\n",
      "Requirement already satisfied: charset-normalizer<4,>=2 in c:\\users\\swani\\appdata\\roaming\\python\\python312\\site-packages (from requests->huggingface_hub->timm) (3.3.2)\n",
      "Requirement already satisfied: idna<4,>=2.5 in c:\\users\\swani\\appdata\\roaming\\python\\python312\\site-packages (from requests->huggingface_hub->timm) (3.7)\n",
      "Requirement already satisfied: urllib3<3,>=1.21.1 in c:\\users\\swani\\appdata\\roaming\\python\\python312\\site-packages (from requests->huggingface_hub->timm) (2.2.1)\n",
      "Requirement already satisfied: certifi>=2017.4.17 in c:\\users\\swani\\appdata\\roaming\\python\\python312\\site-packages (from requests->huggingface_hub->timm) (2024.2.2)\n",
      "Using cached timm-1.0.15-py3-none-any.whl (2.4 MB)\n",
      "Installing collected packages: timm\n",
      "Successfully installed timm-1.0.15\n"
     ]
    },
    {
     "name": "stderr",
     "output_type": "stream",
     "text": [
      "\n",
      "[notice] A new release of pip is available: 24.3.1 -> 25.0.1\n",
      "[notice] To update, run: C:\\Users\\swani\\AppData\\Local\\Programs\\Python\\Python312\\python.exe -m pip install --upgrade pip\n"
     ]
    }
   ],
   "source": [
    "# In your Python 3.12 environment:\n",
    "!{sys.executable} -m pip install timm torch torchvision pillow"
   ]
  },
  {
   "cell_type": "code",
   "execution_count": 14,
   "id": "5cbfbe30-357c-482a-9387-2ec431834e1d",
   "metadata": {},
   "outputs": [
    {
     "name": "stderr",
     "output_type": "stream",
     "text": [
      "Embedding faces for 'train' split: 100%|█████████████████████████████████████████| 16659/16659 [19:59<00:00, 13.88it/s]\n",
      "Embedding faces for 'val' split: 100%|█████████████████████████████████████████████| 3503/3503 [03:39<00:00, 15.94it/s]\n",
      "Embedding faces for 'test' split: 100%|████████████████████████████████████████████| 3544/3544 [03:47<00:00, 15.55it/s]\n"
     ]
    },
    {
     "name": "stdout",
     "output_type": "stream",
     "text": [
      "Wrote embeddings to train_val_test_split_with_clip.json\n"
     ]
    }
   ],
   "source": [
    "import os\n",
    "import json\n",
    "import cv2\n",
    "import torch\n",
    "from transformers import CLIPImageProcessor, CLIPModel\n",
    "from PIL import Image\n",
    "from tqdm import tqdm\n",
    "\n",
    "\n",
    "def main(json_path=\"train_val_test_split_with_multihot.json\",\n",
    "         output_json_path=\"train_val_test_split_with_clip.json\"):\n",
    "    \"\"\"\n",
    "    Process a JSON file with 'train', 'val', and 'test' splits to add 512‑d CLIP face embeddings:\n",
    "    1. Read the JSON containing splits.\n",
    "    2. For each split ('train', 'val', 'test'):\n",
    "       a. Crop each person's bbox and detect the largest face via a tuned Haar cascade.\n",
    "       b. Fallback to full bbox if no face is found.\n",
    "       c. Extract a 512‑dim embedding using CLIPVision.\n",
    "       d. Store it under 'face_embedding' in that record.\n",
    "    3. Write out the updated JSON with embeddings for all splits.\n",
    "    \"\"\"\n",
    "    # Load JSON\n",
    "    with open(json_path, 'r', encoding='utf-8') as f:\n",
    "        all_data = json.load(f)\n",
    "\n",
    "    # Prepare splits\n",
    "    splits = [k for k in ['train', 'val', 'test'] if k in all_data]\n",
    "\n",
    "    # Initialize Haar cascade\n",
    "    face_cascade = cv2.CascadeClassifier(\n",
    "        cv2.data.haarcascades + 'haarcascade_frontalface_default.xml'\n",
    "    )\n",
    "    if face_cascade.empty():\n",
    "        raise RuntimeError(\"Failed to load Haar cascade for face detection.\")\n",
    "\n",
    "    # Initialize CLIP model\n",
    "    device = torch.device('cuda' if torch.cuda.is_available() else 'cpu')\n",
    "    processor = CLIPImageProcessor.from_pretrained('openai/clip-vit-base-patch32')\n",
    "    clip_model = CLIPModel.from_pretrained('openai/clip-vit-base-patch32')\n",
    "    clip_model.eval().to(device)\n",
    "\n",
    "    # Process each split\n",
    "    for split in splits:\n",
    "        records = all_data.get(split, [])\n",
    "        updated_records = []\n",
    "\n",
    "        for rec in tqdm(records, desc=f\"Embedding faces for '{split}' split\"):\n",
    "            rec['face_embedding'] = None\n",
    "            img_path = rec.get('image_path')\n",
    "            bbox = rec.get('bbox', [])\n",
    "            if not img_path or len(bbox) != 4:\n",
    "                updated_records.append(rec)\n",
    "                continue\n",
    "\n",
    "            img = cv2.imread(img_path)\n",
    "            if img is None:\n",
    "                updated_records.append(rec)\n",
    "                continue\n",
    "\n",
    "            x1, y1, x2, y2 = map(int, bbox)\n",
    "            h, w = img.shape[:2]\n",
    "            x1, y1 = max(0, x1), max(0, y1)\n",
    "            x2, y2 = min(w, x2), min(h, y2)\n",
    "            if x2 <= x1 or y2 <= y1:\n",
    "                updated_records.append(rec)\n",
    "                continue\n",
    "\n",
    "            person_crop = img[y1:y2, x1:x2]\n",
    "            if person_crop.size == 0:\n",
    "                updated_records.append(rec)\n",
    "                continue\n",
    "\n",
    "            # Preprocess for face detection\n",
    "            gray = cv2.cvtColor(person_crop, cv2.COLOR_BGR2GRAY)\n",
    "            gray = cv2.equalizeHist(gray)\n",
    "            faces = face_cascade.detectMultiScale(\n",
    "                gray,\n",
    "                scaleFactor=1.05,\n",
    "                minNeighbors=3,\n",
    "                minSize=(20, 20),\n",
    "                flags=cv2.CASCADE_SCALE_IMAGE\n",
    "            )\n",
    "\n",
    "            # Select face region or fallback\n",
    "            if len(faces) > 0:\n",
    "                fx, fy, fw, fh = max(faces, key=lambda f: f[2] * f[3])\n",
    "                face_img = person_crop[fy:fy+fh, fx:fx+fw]\n",
    "                if face_img.size == 0:\n",
    "                    face_img = person_crop\n",
    "            else:\n",
    "                face_img = person_crop\n",
    "\n",
    "            # CLIP embedding\n",
    "            rgb = cv2.cvtColor(face_img, cv2.COLOR_BGR2RGB)\n",
    "            pil = Image.fromarray(rgb)\n",
    "            inputs = processor(images=pil, return_tensors='pt').to(device)\n",
    "            with torch.no_grad():\n",
    "                feats = clip_model.get_image_features(**inputs)  # (1,512)\n",
    "            rec['face_embedding'] = feats.squeeze(0).cpu().tolist()\n",
    "            updated_records.append(rec)\n",
    "\n",
    "        # Update split records\n",
    "        all_data[split] = updated_records\n",
    "\n",
    "    # Save updated JSON\n",
    "    with open(output_json_path, 'w', encoding='utf-8') as f:\n",
    "        json.dump(all_data, f, indent=4)\n",
    "    print(f\"Wrote embeddings to {output_json_path}\")\n",
    "\n",
    "\n",
    "if __name__ == '__main__':\n",
    "    main()\n"
   ]
  },
  {
   "cell_type": "code",
   "execution_count": 15,
   "id": "5feaaaef-c4d7-4d23-a869-26f9cbf997eb",
   "metadata": {},
   "outputs": [],
   "source": [
    "import os\n",
    "import json\n",
    "import cv2\n",
    "import torch\n",
    "from tqdm import tqdm\n",
    "import numpy as np\n",
    "from torchvision.models.detection import keypointrcnn_resnet50_fpn"
   ]
  },
  {
   "cell_type": "code",
   "execution_count": 16,
   "id": "8b12ae31-2a03-4bcb-8c57-a02dff2fb599",
   "metadata": {},
   "outputs": [
    {
     "name": "stderr",
     "output_type": "stream",
     "text": [
      "C:\\Users\\swani\\AppData\\Local\\Programs\\Python\\Python312\\Lib\\site-packages\\torchvision\\models\\_utils.py:208: UserWarning: The parameter 'pretrained' is deprecated since 0.13 and may be removed in the future, please use 'weights' instead.\n",
      "  warnings.warn(\n",
      "C:\\Users\\swani\\AppData\\Local\\Programs\\Python\\Python312\\Lib\\site-packages\\torchvision\\models\\_utils.py:223: UserWarning: Arguments other than a weight enum or `None` for 'weights' are deprecated since 0.13 and may be removed in the future. The current behavior is equivalent to passing `weights=KeypointRCNN_ResNet50_FPN_Weights.COCO_V1`. You can also use `weights=KeypointRCNN_ResNet50_FPN_Weights.DEFAULT` to get the most up-to-date weights.\n",
      "  warnings.warn(msg)\n"
     ]
    },
    {
     "name": "stdout",
     "output_type": "stream",
     "text": [
      "Downloading: \"https://download.pytorch.org/models/keypointrcnn_resnet50_fpn_coco-fc266e95.pth\" to C:\\Users\\swani/.cache\\torch\\hub\\checkpoints\\keypointrcnn_resnet50_fpn_coco-fc266e95.pth\n"
     ]
    },
    {
     "name": "stderr",
     "output_type": "stream",
     "text": [
      "100%|███████████████████████████████████████████████████████████████████████████████| 226M/226M [00:17<00:00, 13.5MB/s]\n",
      "Pose embedding for 'train': 100%|████████████████████████████████████████████████| 16659/16659 [41:30<00:00,  6.69it/s]\n",
      "Pose embedding for 'val': 100%|████████████████████████████████████████████████████| 3503/3503 [08:35<00:00,  6.79it/s]\n",
      "Pose embedding for 'test': 100%|███████████████████████████████████████████████████| 3544/3544 [08:33<00:00,  6.90it/s]\n"
     ]
    },
    {
     "name": "stdout",
     "output_type": "stream",
     "text": [
      "Wrote pose embeddings to train_val_test_split_with_pose.json\n"
     ]
    }
   ],
   "source": [
    "def main(json_path=\"train_val_test_split_with_clip.json\",\n",
    "         output_json_path=\"train_val_test_split_with_pose.json\"):\n",
    "    \"\"\"\n",
    "    Process a JSON file with 'train', 'val', and 'test' splits to add body-pose embeddings:\n",
    "    1. Read the JSON containing splits.\n",
    "    2. For each split ('train', 'val', 'test'):\n",
    "       a. Crop each person's bbox from the image.\n",
    "       b. Run Keypoint R-CNN (ResNet50-FPN) to detect 17 COCO keypoints.\n",
    "       c. Flatten (x, y, score) for each keypoint into a 51-d vector.\n",
    "       d. Store it under 'pose_embedding' in that record.\n",
    "    3. Write out the updated JSON with embeddings for all splits.\n",
    "    \"\"\"\n",
    "    # Load JSON\n",
    "    with open(json_path, 'r', encoding='utf-8') as f:\n",
    "        all_data = json.load(f)\n",
    "\n",
    "    # Determine splits present\n",
    "    splits = [k for k in ['train', 'val', 'test'] if k in all_data]\n",
    "    if not splits:\n",
    "        # assume top-level list\n",
    "        splits = ['']\n",
    "        all_data = {'': all_data}\n",
    "\n",
    "    # Initialize Keypoint R-CNN model\n",
    "    device = torch.device('cuda' if torch.cuda.is_available() else 'cpu')\n",
    "    model = keypointrcnn_resnet50_fpn(pretrained=True).to(device)\n",
    "    model.eval()\n",
    "\n",
    "    # Iterate over splits\n",
    "    for split in splits:\n",
    "        records = all_data[split]\n",
    "        updated_records = []\n",
    "\n",
    "        for rec in tqdm(records, desc=f\"Pose embedding for '{split or 'all'}'\"):\n",
    "            rec['pose_embedding'] = None\n",
    "            img_path = rec.get('image_path')\n",
    "            bbox = rec.get('bbox', [])\n",
    "            if not img_path or len(bbox) != 4:\n",
    "                updated_records.append(rec)\n",
    "                continue\n",
    "\n",
    "            img = cv2.imread(img_path)\n",
    "            if img is None:\n",
    "                updated_records.append(rec)\n",
    "                continue\n",
    "\n",
    "            x1, y1, x2, y2 = map(int, bbox)\n",
    "            h, w = img.shape[:2]\n",
    "            x1, y1 = max(0, x1), max(0, y1)\n",
    "            x2, y2 = min(w, x2), min(h, y2)\n",
    "            if x2 <= x1 or y2 <= y1:\n",
    "                updated_records.append(rec)\n",
    "                continue\n",
    "\n",
    "            person_crop = img[y1:y2, x1:x2]\n",
    "            if person_crop.size == 0:\n",
    "                updated_records.append(rec)\n",
    "                continue\n",
    "\n",
    "            # Convert to tensor\n",
    "            rgb = cv2.cvtColor(person_crop, cv2.COLOR_BGR2RGB)\n",
    "            img_tensor = torch.from_numpy(rgb).permute(2, 0, 1).float() / 255.0\n",
    "            img_tensor = img_tensor.to(device)\n",
    "\n",
    "            # Forward pass\n",
    "            with torch.no_grad():\n",
    "                outputs = model([img_tensor])\n",
    "\n",
    "            if not outputs or outputs[0]['scores'].numel() == 0:\n",
    "                updated_records.append(rec)\n",
    "                continue\n",
    "\n",
    "            # Pick top detection\n",
    "            scores = outputs[0]['scores']\n",
    "            top_idx = scores.argmax().item()\n",
    "            keypoints = outputs[0]['keypoints'][top_idx]  # [17,3]\n",
    "\n",
    "            # Flatten to 51-dim vector\n",
    "            vect = keypoints.cpu().numpy().reshape(-1).tolist()\n",
    "            rec['pose_embedding'] = vect\n",
    "            updated_records.append(rec)\n",
    "\n",
    "        # Update split\n",
    "        all_data[split] = updated_records\n",
    "\n",
    "    # If we used synthetic '' split, unwrap\n",
    "    if splits == ['']:\n",
    "        output_data = all_data['']\n",
    "    else:\n",
    "        output_data = all_data\n",
    "\n",
    "    # Save updated JSON\n",
    "    with open(output_json_path, 'w', encoding='utf-8') as f:\n",
    "        json.dump(output_data, f, indent=4)\n",
    "    print(f\"Wrote pose embeddings to {output_json_path}\")\n",
    "\n",
    "\n",
    "if __name__ == '__main__':\n",
    "    main()\n"
   ]
  },
  {
   "cell_type": "code",
   "execution_count": null,
   "id": "3c4ab4ed-7639-4043-9fde-6331d96b5144",
   "metadata": {},
   "outputs": [],
   "source": []
  }
 ],
 "metadata": {
  "kernelspec": {
   "display_name": "Python 3 (ipykernel)",
   "language": "python",
   "name": "python3"
  },
  "language_info": {
   "codemirror_mode": {
    "name": "ipython",
    "version": 3
   },
   "file_extension": ".py",
   "mimetype": "text/x-python",
   "name": "python",
   "nbconvert_exporter": "python",
   "pygments_lexer": "ipython3",
   "version": "3.9.6"
  }
 },
 "nbformat": 4,
 "nbformat_minor": 5
}
