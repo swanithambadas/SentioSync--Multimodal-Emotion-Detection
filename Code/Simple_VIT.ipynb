{
 "cells": [
  {
   "cell_type": "code",
   "execution_count": 1,
   "id": "c4df38e5",
   "metadata": {},
   "outputs": [],
   "source": [
    "import torch\n",
    "import torch.nn as nn\n",
    "from torch.utils.data import Dataset, DataLoader\n",
    "import json\n",
    "import numpy as np\n",
    "from tqdm import tqdm\n",
    "from sklearn.metrics import accuracy_score, precision_score, recall_score, f1_score"
   ]
  },
  {
   "cell_type": "code",
   "execution_count": 2,
   "id": "b14dbe7c",
   "metadata": {},
   "outputs": [],
   "source": [
    "class EmotionDataset(Dataset):\n",
    "    def __init__(self, json_path, split='train'):\n",
    "        with open(json_path, 'r') as f:\n",
    "            data = json.load(f)\n",
    "\n",
    "        self.samples = []\n",
    "        for item in data[split]:\n",
    "            face = item.get('face_embedding')\n",
    "            pose = item.get('pose_embedding')\n",
    "            label = item.get('multi_hot')\n",
    "\n",
    "            if face is None or pose is None or label is None:\n",
    "                continue\n",
    "            if any(x is None for x in face) or any(x is None for x in pose) or any(x is None for x in label):\n",
    "                continue\n",
    "\n",
    "            self.samples.append((face, pose, label))\n",
    "\n",
    "    def __len__(self):\n",
    "        return len(self.samples)\n",
    "\n",
    "    def __getitem__(self, idx):\n",
    "        face, pose, label = self.samples[idx]\n",
    "        return (\n",
    "            torch.tensor(face, dtype=torch.float32),\n",
    "            torch.tensor(pose, dtype=torch.float32),\n",
    "            torch.tensor(label, dtype=torch.float32)\n",
    "        )"
   ]
  },
  {
   "cell_type": "code",
   "execution_count": 3,
   "id": "9a38eea1",
   "metadata": {},
   "outputs": [],
   "source": [
    "class SimpleViT(nn.Module):\n",
    "    def __init__(self, face_dim=512, pose_dim=34, hidden_dim=256, num_classes=7, n_heads=4, n_layers=4):\n",
    "        super(SimpleViT, self).__init__()\n",
    "        self.face_proj = nn.Linear(face_dim, hidden_dim)\n",
    "        self.pose_proj = nn.Linear(pose_dim, hidden_dim)\n",
    "        self.cls_token = nn.Parameter(torch.randn(1, 1, hidden_dim))\n",
    "        self.pos_embedding = nn.Parameter(torch.randn(1, 3, hidden_dim))  # cls, face, pose\n",
    "\n",
    "        encoder_layer = nn.TransformerEncoderLayer(d_model=hidden_dim, nhead=n_heads, batch_first=True)\n",
    "        self.transformer = nn.TransformerEncoder(encoder_layer, num_layers=n_layers)\n",
    "\n",
    "        self.mlp_head = nn.Sequential(\n",
    "            nn.LayerNorm(hidden_dim),\n",
    "            nn.Linear(hidden_dim, num_classes),\n",
    "            nn.Sigmoid()\n",
    "        )\n",
    "\n",
    "    def forward(self, face, pose):\n",
    "        face_token = self.face_proj(face).unsqueeze(1)\n",
    "        pose_token = self.pose_proj(pose).unsqueeze(1)\n",
    "        cls_token = self.cls_token.expand(face.size(0), -1, -1)\n",
    "        x = torch.cat([cls_token, face_token, pose_token], dim=1) + self.pos_embedding\n",
    "        return self.mlp_head(self.transformer(x)[:, 0])"
   ]
  },
  {
   "cell_type": "code",
   "execution_count": 4,
   "id": "97e689e7",
   "metadata": {},
   "outputs": [],
   "source": [
    "def compute_metrics(y_true, y_pred, threshold=0.5):\n",
    "    y_pred_bin = (y_pred > threshold).astype(int)\n",
    "\n",
    "    accuracy = accuracy_score(y_true, y_pred_bin)\n",
    "    precision = precision_score(y_true, y_pred_bin, average='micro', zero_division=0)\n",
    "    recall = recall_score(y_true, y_pred_bin, average='micro', zero_division=0)\n",
    "    f1 = f1_score(y_true, y_pred_bin, average='micro', zero_division=0)\n",
    "\n",
    "    return {\n",
    "        \"accuracy\": accuracy,\n",
    "        \"precision\": precision,\n",
    "        \"recall\": recall,\n",
    "        \"f1\": f1\n",
    "    }\n",
    "\n",
    "def train_one_epoch(model, dataloader, optimizer, criterion, device):\n",
    "    model.train()\n",
    "    total_loss = 0.0\n",
    "    all_labels, all_preds = [], []\n",
    "\n",
    "    for face, pose, label in tqdm(dataloader, desc=\"Training\", leave=False):\n",
    "        face, pose, label = face.to(device), pose.to(device), label.to(device)\n",
    "        optimizer.zero_grad()\n",
    "        output = model(face, pose)\n",
    "        loss = criterion(output, label)\n",
    "        loss.backward()\n",
    "        optimizer.step()\n",
    "\n",
    "        total_loss += loss.item()\n",
    "        all_labels.append(label.cpu().numpy())\n",
    "        all_preds.append(output.detach().cpu().numpy())\n",
    "\n",
    "    y_true = np.vstack(all_labels)\n",
    "    y_pred = np.vstack(all_preds)\n",
    "    metrics = compute_metrics(y_true, y_pred)\n",
    "    return total_loss / len(dataloader), metrics\n",
    "\n",
    "def evaluate(model, dataloader, criterion, device, mode=\"Validation\"):\n",
    "    model.eval()\n",
    "    total_loss = 0.0\n",
    "    all_labels, all_preds = [], []\n",
    "\n",
    "    with torch.no_grad():\n",
    "        for face, pose, label in tqdm(dataloader, desc=mode, leave=False):\n",
    "            face, pose, label = face.to(device), pose.to(device), label.to(device)\n",
    "            output = model(face, pose)\n",
    "            loss = criterion(output, label)\n",
    "\n",
    "            total_loss += loss.item()\n",
    "            all_labels.append(label.cpu().numpy())\n",
    "            all_preds.append(output.cpu().numpy())\n",
    "\n",
    "    y_true = np.vstack(all_labels)\n",
    "    y_pred = np.vstack(all_preds)\n",
    "    metrics = compute_metrics(y_true, y_pred)\n",
    "    return total_loss / len(dataloader), metrics\n",
    "\n",
    "def train_model(model, train_loader, val_loader, optimizer, criterion, device, epochs=20, save_path=\"best_vit.pt\"):\n",
    "    best_val_loss = float('inf')\n",
    "    for epoch in range(epochs):\n",
    "        print(f\"\\nEpoch {epoch+1}/{epochs}\")\n",
    "        train_loss, train_metrics = train_one_epoch(model, train_loader, optimizer, criterion, device)\n",
    "        val_loss, val_metrics = evaluate(model, val_loader, criterion, device)\n",
    "\n",
    "        print(f\"Train Loss: {train_loss:.4f} | Acc: {train_metrics['accuracy']:.4f} | Prec: {train_metrics['precision']:.4f} | Rec: {train_metrics['recall']:.4f} | F1: {train_metrics['f1']:.4f}\")\n",
    "        print(f\"Val   Loss: {val_loss:.4f} | Acc: {val_metrics['accuracy']:.4f} | Prec: {val_metrics['precision']:.4f} | Rec: {val_metrics['recall']:.4f} | F1: {val_metrics['f1']:.4f}\")\n",
    "\n",
    "        if val_loss < best_val_loss:\n",
    "            best_val_loss = val_loss\n",
    "            torch.save(model.state_dict(), save_path)\n",
    "            print(\"Best model saved.\")\n",
    "\n",
    "def test_model(model, test_loader, criterion, device, save_path=\"best_vit.pt\"):\n",
    "    model.load_state_dict(torch.load(save_path))\n",
    "    test_loss, test_metrics = evaluate(model, test_loader, criterion, device, mode=\"Test\")\n",
    "    print(f\"\\nTest Loss: {test_loss:.4f} | Acc: {test_metrics['accuracy']:.4f} | Prec: {test_metrics['precision']:.4f} | Rec: {test_metrics['recall']:.4f} | F1: {test_metrics['f1']:.4f}\")"
   ]
  },
  {
   "cell_type": "code",
   "execution_count": 5,
   "id": "4fd96968",
   "metadata": {},
   "outputs": [
    {
     "name": "stdout",
     "output_type": "stream",
     "text": [
      "\n",
      "Epoch 1/20\n"
     ]
    },
    {
     "name": "stderr",
     "output_type": "stream",
     "text": [
      "                                                             \r"
     ]
    },
    {
     "name": "stdout",
     "output_type": "stream",
     "text": [
      "Train Loss: 0.2726 | Acc: 0.5664 | Prec: 0.8110 | Rec: 0.6169 | F1: 0.7007\n",
      "Val   Loss: 0.2710 | Acc: 0.5638 | Prec: 0.8149 | Rec: 0.6135 | F1: 0.7000\n",
      "Best model saved.\n",
      "\n",
      "Epoch 2/20\n"
     ]
    },
    {
     "name": "stderr",
     "output_type": "stream",
     "text": [
      "                                                             \r"
     ]
    },
    {
     "name": "stdout",
     "output_type": "stream",
     "text": [
      "Train Loss: 0.2687 | Acc: 0.5679 | Prec: 0.8146 | Rec: 0.6180 | F1: 0.7028\n",
      "Val   Loss: 0.2697 | Acc: 0.5638 | Prec: 0.8149 | Rec: 0.6135 | F1: 0.7000\n",
      "Best model saved.\n",
      "\n",
      "Epoch 3/20\n"
     ]
    },
    {
     "name": "stderr",
     "output_type": "stream",
     "text": [
      "                                                             \r"
     ]
    },
    {
     "name": "stdout",
     "output_type": "stream",
     "text": [
      "Train Loss: 0.2678 | Acc: 0.5681 | Prec: 0.8152 | Rec: 0.6171 | F1: 0.7025\n",
      "Val   Loss: 0.2675 | Acc: 0.5638 | Prec: 0.8149 | Rec: 0.6135 | F1: 0.7000\n",
      "Best model saved.\n",
      "\n",
      "Epoch 4/20\n"
     ]
    },
    {
     "name": "stderr",
     "output_type": "stream",
     "text": [
      "                                                             \r"
     ]
    },
    {
     "name": "stdout",
     "output_type": "stream",
     "text": [
      "Train Loss: 0.2669 | Acc: 0.5672 | Prec: 0.8144 | Rec: 0.6174 | F1: 0.7023\n",
      "Val   Loss: 0.2670 | Acc: 0.5630 | Prec: 0.8163 | Rec: 0.6127 | F1: 0.7000\n",
      "Best model saved.\n",
      "\n",
      "Epoch 5/20\n"
     ]
    },
    {
     "name": "stderr",
     "output_type": "stream",
     "text": [
      "                                                             \r"
     ]
    },
    {
     "name": "stdout",
     "output_type": "stream",
     "text": [
      "Train Loss: 0.2658 | Acc: 0.5674 | Prec: 0.8146 | Rec: 0.6174 | F1: 0.7024\n",
      "Val   Loss: 0.2666 | Acc: 0.5638 | Prec: 0.8149 | Rec: 0.6135 | F1: 0.7000\n",
      "Best model saved.\n",
      "\n",
      "Epoch 6/20\n"
     ]
    },
    {
     "name": "stderr",
     "output_type": "stream",
     "text": [
      "                                                             \r"
     ]
    },
    {
     "name": "stdout",
     "output_type": "stream",
     "text": [
      "Train Loss: 0.2649 | Acc: 0.5667 | Prec: 0.8148 | Rec: 0.6180 | F1: 0.7029\n",
      "Val   Loss: 0.2642 | Acc: 0.5636 | Prec: 0.8176 | Rec: 0.6129 | F1: 0.7006\n",
      "Best model saved.\n",
      "\n",
      "Epoch 7/20\n"
     ]
    },
    {
     "name": "stderr",
     "output_type": "stream",
     "text": [
      "                                                             \r"
     ]
    },
    {
     "name": "stdout",
     "output_type": "stream",
     "text": [
      "Train Loss: 0.2631 | Acc: 0.5657 | Prec: 0.8149 | Rec: 0.6184 | F1: 0.7032\n",
      "Val   Loss: 0.2636 | Acc: 0.5607 | Prec: 0.8204 | Rec: 0.6082 | F1: 0.6985\n",
      "Best model saved.\n",
      "\n",
      "Epoch 8/20\n"
     ]
    },
    {
     "name": "stderr",
     "output_type": "stream",
     "text": [
      "                                                             \r"
     ]
    },
    {
     "name": "stdout",
     "output_type": "stream",
     "text": [
      "Train Loss: 0.2606 | Acc: 0.5651 | Prec: 0.8152 | Rec: 0.6202 | F1: 0.7045\n",
      "Val   Loss: 0.2610 | Acc: 0.5636 | Prec: 0.8165 | Rec: 0.6155 | F1: 0.7019\n",
      "Best model saved.\n",
      "\n",
      "Epoch 9/20\n"
     ]
    },
    {
     "name": "stderr",
     "output_type": "stream",
     "text": [
      "                                                             \r"
     ]
    },
    {
     "name": "stdout",
     "output_type": "stream",
     "text": [
      "Train Loss: 0.2584 | Acc: 0.5641 | Prec: 0.8121 | Rec: 0.6243 | F1: 0.7059\n",
      "Val   Loss: 0.2577 | Acc: 0.5570 | Prec: 0.8028 | Rec: 0.6357 | F1: 0.7096\n",
      "Best model saved.\n",
      "\n",
      "Epoch 10/20\n"
     ]
    },
    {
     "name": "stderr",
     "output_type": "stream",
     "text": [
      "                                                             \r"
     ]
    },
    {
     "name": "stdout",
     "output_type": "stream",
     "text": [
      "Train Loss: 0.2565 | Acc: 0.5622 | Prec: 0.8120 | Rec: 0.6258 | F1: 0.7069\n",
      "Val   Loss: 0.2586 | Acc: 0.5621 | Prec: 0.8255 | Rec: 0.6114 | F1: 0.7025\n",
      "\n",
      "Epoch 11/20\n"
     ]
    },
    {
     "name": "stderr",
     "output_type": "stream",
     "text": [
      "                                                             \r"
     ]
    },
    {
     "name": "stdout",
     "output_type": "stream",
     "text": [
      "Train Loss: 0.2558 | Acc: 0.5642 | Prec: 0.8121 | Rec: 0.6274 | F1: 0.7079\n",
      "Val   Loss: 0.2567 | Acc: 0.5667 | Prec: 0.8133 | Rec: 0.6297 | F1: 0.7098\n",
      "Best model saved.\n",
      "\n",
      "Epoch 12/20\n"
     ]
    },
    {
     "name": "stderr",
     "output_type": "stream",
     "text": [
      "                                                             \r"
     ]
    },
    {
     "name": "stdout",
     "output_type": "stream",
     "text": [
      "Train Loss: 0.2537 | Acc: 0.5631 | Prec: 0.8117 | Rec: 0.6282 | F1: 0.7083\n",
      "Val   Loss: 0.2570 | Acc: 0.5658 | Prec: 0.8098 | Rec: 0.6353 | F1: 0.7120\n",
      "\n",
      "Epoch 13/20\n"
     ]
    },
    {
     "name": "stderr",
     "output_type": "stream",
     "text": [
      "                                                             \r"
     ]
    },
    {
     "name": "stdout",
     "output_type": "stream",
     "text": [
      "Train Loss: 0.2528 | Acc: 0.5641 | Prec: 0.8112 | Rec: 0.6307 | F1: 0.7097\n",
      "Val   Loss: 0.2554 | Acc: 0.5653 | Prec: 0.8060 | Rec: 0.6396 | F1: 0.7132\n",
      "Best model saved.\n",
      "\n",
      "Epoch 14/20\n"
     ]
    },
    {
     "name": "stderr",
     "output_type": "stream",
     "text": [
      "                                                             \r"
     ]
    },
    {
     "name": "stdout",
     "output_type": "stream",
     "text": [
      "Train Loss: 0.2517 | Acc: 0.5644 | Prec: 0.8113 | Rec: 0.6322 | F1: 0.7107\n",
      "Val   Loss: 0.2575 | Acc: 0.5641 | Prec: 0.8185 | Rec: 0.6148 | F1: 0.7022\n",
      "\n",
      "Epoch 15/20\n"
     ]
    },
    {
     "name": "stderr",
     "output_type": "stream",
     "text": [
      "                                                             \r"
     ]
    },
    {
     "name": "stdout",
     "output_type": "stream",
     "text": [
      "Train Loss: 0.2511 | Acc: 0.5652 | Prec: 0.8107 | Rec: 0.6334 | F1: 0.7111\n",
      "Val   Loss: 0.2545 | Acc: 0.5613 | Prec: 0.8032 | Rec: 0.6398 | F1: 0.7122\n",
      "Best model saved.\n",
      "\n",
      "Epoch 16/20\n"
     ]
    },
    {
     "name": "stderr",
     "output_type": "stream",
     "text": [
      "                                                             \r"
     ]
    },
    {
     "name": "stdout",
     "output_type": "stream",
     "text": [
      "Train Loss: 0.2512 | Acc: 0.5646 | Prec: 0.8116 | Rec: 0.6302 | F1: 0.7094\n",
      "Val   Loss: 0.2578 | Acc: 0.5453 | Prec: 0.7767 | Rec: 0.6622 | F1: 0.7149\n",
      "\n",
      "Epoch 17/20\n"
     ]
    },
    {
     "name": "stderr",
     "output_type": "stream",
     "text": [
      "                                                             \r"
     ]
    },
    {
     "name": "stdout",
     "output_type": "stream",
     "text": [
      "Train Loss: 0.2489 | Acc: 0.5659 | Prec: 0.8128 | Rec: 0.6330 | F1: 0.7117\n",
      "Val   Loss: 0.2576 | Acc: 0.5673 | Prec: 0.8167 | Rec: 0.6265 | F1: 0.7090\n",
      "\n",
      "Epoch 18/20\n"
     ]
    },
    {
     "name": "stderr",
     "output_type": "stream",
     "text": [
      "                                                             \r"
     ]
    },
    {
     "name": "stdout",
     "output_type": "stream",
     "text": [
      "Train Loss: 0.2484 | Acc: 0.5646 | Prec: 0.8106 | Rec: 0.6367 | F1: 0.7132\n",
      "Val   Loss: 0.2569 | Acc: 0.5541 | Prec: 0.7897 | Rec: 0.6495 | F1: 0.7128\n",
      "\n",
      "Epoch 19/20\n"
     ]
    },
    {
     "name": "stderr",
     "output_type": "stream",
     "text": [
      "                                                             \r"
     ]
    },
    {
     "name": "stdout",
     "output_type": "stream",
     "text": [
      "Train Loss: 0.2471 | Acc: 0.5669 | Prec: 0.8097 | Rec: 0.6404 | F1: 0.7152\n",
      "Val   Loss: 0.2550 | Acc: 0.5678 | Prec: 0.8154 | Rec: 0.6325 | F1: 0.7124\n",
      "\n",
      "Epoch 20/20\n"
     ]
    },
    {
     "name": "stderr",
     "output_type": "stream",
     "text": [
      "                                                             \r"
     ]
    },
    {
     "name": "stdout",
     "output_type": "stream",
     "text": [
      "Train Loss: 0.2461 | Acc: 0.5659 | Prec: 0.8096 | Rec: 0.6413 | F1: 0.7157\n",
      "Val   Loss: 0.2560 | Acc: 0.5658 | Prec: 0.8077 | Rec: 0.6385 | F1: 0.7132\n"
     ]
    },
    {
     "name": "stderr",
     "output_type": "stream",
     "text": [
      "                                                       "
     ]
    },
    {
     "name": "stdout",
     "output_type": "stream",
     "text": [
      "\n",
      "Test Loss: 0.2483 | Acc: 0.5635 | Prec: 0.8166 | Rec: 0.6455 | F1: 0.7210\n"
     ]
    },
    {
     "name": "stderr",
     "output_type": "stream",
     "text": [
      "\r"
     ]
    }
   ],
   "source": [
    "json_path = \"final_annotations.json\"\n",
    "batch_size = 32\n",
    "epochs = 20\n",
    "save_path = \"best_simple_vit.pt\"\n",
    "device = torch.device(\"cuda\" if torch.cuda.is_available() else \"cpu\")\n",
    "\n",
    "train_dataset = EmotionDataset(json_path, split=\"train\")\n",
    "val_dataset = EmotionDataset(json_path, split=\"val\")\n",
    "test_dataset = EmotionDataset(json_path, split=\"test\")\n",
    "\n",
    "train_loader = DataLoader(train_dataset, batch_size=batch_size, shuffle=True)\n",
    "val_loader = DataLoader(val_dataset, batch_size=batch_size)\n",
    "test_loader = DataLoader(test_dataset, batch_size=batch_size)\n",
    "\n",
    "model = SimpleViT().to(device)\n",
    "optimizer = torch.optim.Adam(model.parameters(), lr=1e-4)\n",
    "criterion = nn.BCELoss()\n",
    "\n",
    "train_model(model, train_loader, val_loader, optimizer, criterion, device, epochs=epochs, save_path=save_path)\n",
    "test_model(model, test_loader, criterion, device, save_path=save_path)"
   ]
  }
 ],
 "metadata": {
  "kernelspec": {
   "display_name": "Python 3 (ipykernel)",
   "language": "python",
   "name": "python3"
  },
  "language_info": {
   "codemirror_mode": {
    "name": "ipython",
    "version": 3
   },
   "file_extension": ".py",
   "mimetype": "text/x-python",
   "name": "python",
   "nbconvert_exporter": "python",
   "pygments_lexer": "ipython3",
   "version": "3.9.6"
  }
 },
 "nbformat": 4,
 "nbformat_minor": 5
}
